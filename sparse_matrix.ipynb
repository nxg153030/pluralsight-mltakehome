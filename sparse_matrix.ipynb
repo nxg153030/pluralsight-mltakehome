{
 "cells": [
  {
   "cell_type": "code",
   "execution_count": 2,
   "id": "227a46cc-5298-46c0-90d3-3256a873935c",
   "metadata": {},
   "outputs": [],
   "source": [
    "import numpy as np\n",
    "from scipy import sparse\n",
    "from sys import getsizeof"
   ]
  },
  {
   "cell_type": "code",
   "execution_count": 6,
   "id": "3d3607cf-88c1-4882-9238-042a65ddbb36",
   "metadata": {},
   "outputs": [],
   "source": [
    "feature_matrix = np.loadtxt('data/user_feature_matrix.csv', dtype=int, skiprows=1, delimiter=',')"
   ]
  },
  {
   "cell_type": "code",
   "execution_count": 9,
   "id": "95a31ab8-7e4e-4cb5-abe4-810d6ca6d234",
   "metadata": {},
   "outputs": [
    {
     "data": {
      "text/plain": [
       "array([[    1,     0,     1, ...,     0,     0,     0],\n",
       "       [    2,     0,     0, ...,     0,     0,     0],\n",
       "       [    3,     0,     1, ...,     0,     0,     0],\n",
       "       ...,\n",
       "       [ 9998,     0,     1, ...,     0,     0,     0],\n",
       "       [ 9999,     0,     0, ...,     0,     0,     0],\n",
       "       [10000,     0,     0, ...,     0,     0,     0]])"
      ]
     },
     "execution_count": 9,
     "metadata": {},
     "output_type": "execute_result"
    }
   ],
   "source": [
    "feature_matrix"
   ]
  },
  {
   "cell_type": "code",
   "execution_count": 10,
   "id": "46585c48-eaa2-4fe4-8e54-a1effc52f3f8",
   "metadata": {},
   "outputs": [
    {
     "data": {
      "text/plain": [
       "120"
      ]
     },
     "execution_count": 10,
     "metadata": {},
     "output_type": "execute_result"
    }
   ],
   "source": [
    "getsizeof(feature_matrix)"
   ]
  },
  {
   "cell_type": "code",
   "execution_count": 16,
   "id": "b6ca3b2e-88fb-4ae4-b7e1-03763ae37783",
   "metadata": {},
   "outputs": [
    {
     "data": {
      "text/plain": [
       "66680000"
      ]
     },
     "execution_count": 16,
     "metadata": {},
     "output_type": "execute_result"
    }
   ],
   "source": [
    "# no. of elements in the array\n",
    "feature_matrix.size"
   ]
  },
  {
   "cell_type": "code",
   "execution_count": 14,
   "id": "6040701f-4077-414e-bbdd-547f54c98568",
   "metadata": {},
   "outputs": [
    {
     "data": {
      "text/plain": [
       "533.44"
      ]
     },
     "execution_count": 14,
     "metadata": {},
     "output_type": "execute_result"
    }
   ],
   "source": [
    "# memory taken up by feature_matrix in MB\n",
    "feature_matrix.nbytes/(1000*1000)"
   ]
  },
  {
   "cell_type": "code",
   "execution_count": 17,
   "id": "c3e9595f-0ea7-46a1-a157-c8f63e64851c",
   "metadata": {},
   "outputs": [],
   "source": [
    "sparsity = 1.0 - (np.count_nonzero(feature_matrix)/float(feature_matrix.size))"
   ]
  },
  {
   "cell_type": "code",
   "execution_count": 18,
   "id": "5f76a6a6-c6d4-4938-a888-df7821c12a30",
   "metadata": {},
   "outputs": [
    {
     "data": {
      "text/plain": [
       "0.9952556388722256"
      ]
     },
     "execution_count": 18,
     "metadata": {},
     "output_type": "execute_result"
    }
   ],
   "source": [
    "sparsity"
   ]
  },
  {
   "cell_type": "code",
   "execution_count": 19,
   "id": "ab8ba246-c3a0-4bcc-ac20-c882667a0ef6",
   "metadata": {},
   "outputs": [],
   "source": [
    "sparse_feature_matrix = sparse.csr_matrix(feature_matrix)"
   ]
  },
  {
   "cell_type": "code",
   "execution_count": 24,
   "id": "60db2f9f-ab67-42ff-94ab-51136fa48d4c",
   "metadata": {},
   "outputs": [
    {
     "data": {
      "text/plain": [
       "316354"
      ]
     },
     "execution_count": 24,
     "metadata": {},
     "output_type": "execute_result"
    }
   ],
   "source": [
    "sparse_feature_matrix.size"
   ]
  },
  {
   "cell_type": "code",
   "execution_count": 25,
   "id": "84f7d86b-08d9-4125-947d-0e6deb7abf42",
   "metadata": {},
   "outputs": [
    {
     "data": {
      "text/plain": [
       "48"
      ]
     },
     "execution_count": 25,
     "metadata": {},
     "output_type": "execute_result"
    }
   ],
   "source": [
    "getsizeof(sparse_feature_matrix)"
   ]
  },
  {
   "cell_type": "code",
   "execution_count": 27,
   "id": "20f53ea6-c31f-42fd-9eac-6b1880b12db4",
   "metadata": {},
   "outputs": [],
   "source": [
    "# save sparse CSR matrix\n",
    "sparse.save_npz('sparse_user_features.npz', sparse_feature_matrix)"
   ]
  },
  {
   "cell_type": "code",
   "execution_count": 3,
   "id": "f9446bc0-b4f4-4655-a585-2f826022d4c2",
   "metadata": {},
   "outputs": [],
   "source": [
    "# load CSR matrix\n",
    "sparse_feature_matrix = sparse.load_npz('sparse_user_features.npz')"
   ]
  },
  {
   "cell_type": "code",
   "execution_count": 4,
   "id": "0c8dc6d1-59ed-4ad6-8559-1c061e6a86c7",
   "metadata": {},
   "outputs": [],
   "source": [
    "dataset = sparse_feature_matrix.todense()"
   ]
  },
  {
   "cell_type": "code",
   "execution_count": 7,
   "id": "85448db6-1c14-4f36-a824-092ae0bb0975",
   "metadata": {},
   "outputs": [
    {
     "data": {
      "text/plain": [
       "(10000, 6668)"
      ]
     },
     "execution_count": 7,
     "metadata": {},
     "output_type": "execute_result"
    }
   ],
   "source": [
    "dataset.shape"
   ]
  },
  {
   "cell_type": "code",
   "execution_count": 10,
   "id": "5e7aabfd-82cc-47b2-b008-86060c160423",
   "metadata": {},
   "outputs": [
    {
     "data": {
      "text/plain": [
       "matrix([[1, 0, 1, ..., 0, 0, 0]])"
      ]
     },
     "execution_count": 10,
     "metadata": {},
     "output_type": "execute_result"
    }
   ],
   "source": [
    "dataset[0][0][0]"
   ]
  },
  {
   "cell_type": "code",
   "execution_count": 11,
   "id": "aef4424c-6571-4534-b10c-5740523c7733",
   "metadata": {},
   "outputs": [
    {
     "data": {
      "text/plain": [
       "array([[    1,     0,     1, ...,     0,     0,     0],\n",
       "       [    2,     0,     0, ...,     0,     0,     0],\n",
       "       [    3,     0,     1, ...,     0,     0,     0],\n",
       "       ...,\n",
       "       [ 9998,     0,     1, ...,     0,     0,     0],\n",
       "       [ 9999,     0,     0, ...,     0,     0,     0],\n",
       "       [10000,     0,     0, ...,     0,     0,     0]])"
      ]
     },
     "execution_count": 11,
     "metadata": {},
     "output_type": "execute_result"
    }
   ],
   "source": [
    "np.array(dataset)"
   ]
  },
  {
   "cell_type": "code",
   "execution_count": null,
   "id": "f8946b65-16db-4dd4-b688-0c3d488fd2f5",
   "metadata": {},
   "outputs": [],
   "source": []
  }
 ],
 "metadata": {
  "kernelspec": {
   "display_name": "plenv",
   "language": "python",
   "name": "venv"
  },
  "language_info": {
   "codemirror_mode": {
    "name": "ipython",
    "version": 3
   },
   "file_extension": ".py",
   "mimetype": "text/x-python",
   "name": "python",
   "nbconvert_exporter": "python",
   "pygments_lexer": "ipython3",
   "version": "3.8.2"
  }
 },
 "nbformat": 4,
 "nbformat_minor": 5
}
