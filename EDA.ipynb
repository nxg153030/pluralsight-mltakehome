{
 "cells": [
  {
   "cell_type": "code",
   "execution_count": 1,
   "id": "834bc5ce-fc80-4d2b-a34e-01193dbb5e61",
   "metadata": {},
   "outputs": [
    {
     "name": "stdout",
     "output_type": "stream",
     "text": [
      "/Users/nishant/PycharmProjects/pluralsight-mltakehome/venv/bin/python\n"
     ]
    }
   ],
   "source": [
    "!which python"
   ]
  },
  {
   "cell_type": "code",
   "execution_count": 4,
   "id": "65f13212-68aa-45fa-943f-67107cac25e0",
   "metadata": {},
   "outputs": [],
   "source": [
    "import pandas as pd"
   ]
  },
  {
   "cell_type": "code",
   "execution_count": 5,
   "id": "97680962-f479-415f-9dfb-fe0ea93aa8f8",
   "metadata": {},
   "outputs": [],
   "source": [
    "course_tags_df = pd.read_csv('data/course_tags.csv')\n",
    "user_assessment_scores_df = pd.read_csv('data/user_assessment_scores.csv')\n",
    "user_course_views_df = pd.read_csv('data/user_course_views.csv')\n",
    "user_interests_df = pd.read_csv('data/user_interests.csv')"
   ]
  },
  {
   "cell_type": "code",
   "execution_count": 18,
   "id": "3cc68625-6bd2-436f-bc74-5c3ecd263906",
   "metadata": {},
   "outputs": [
    {
     "data": {
      "text/html": [
       "<div>\n",
       "<style scoped>\n",
       "    .dataframe tbody tr th:only-of-type {\n",
       "        vertical-align: middle;\n",
       "    }\n",
       "\n",
       "    .dataframe tbody tr th {\n",
       "        vertical-align: top;\n",
       "    }\n",
       "\n",
       "    .dataframe thead th {\n",
       "        text-align: right;\n",
       "    }\n",
       "</style>\n",
       "<table border=\"1\" class=\"dataframe\">\n",
       "  <thead>\n",
       "    <tr style=\"text-align: right;\">\n",
       "      <th></th>\n",
       "      <th>course_id</th>\n",
       "      <th>course_tags</th>\n",
       "    </tr>\n",
       "  </thead>\n",
       "  <tbody>\n",
       "    <tr>\n",
       "      <th>0</th>\n",
       "      <td>12-principles-animation-toon-boom-harmony-1475</td>\n",
       "      <td>2d-animation</td>\n",
       "    </tr>\n",
       "    <tr>\n",
       "      <th>1</th>\n",
       "      <td>2d-racing-game-series-unity-5-1312</td>\n",
       "      <td>game-design</td>\n",
       "    </tr>\n",
       "    <tr>\n",
       "      <th>2</th>\n",
       "      <td>2d-racing-games-unity-volume-2-1286</td>\n",
       "      <td>game-art</td>\n",
       "    </tr>\n",
       "    <tr>\n",
       "      <th>3</th>\n",
       "      <td>2d-racing-games-unity-volume-2-1286</td>\n",
       "      <td>digital-painting</td>\n",
       "    </tr>\n",
       "    <tr>\n",
       "      <th>4</th>\n",
       "      <td>2d-racing-games-unity-volume-2-1286</td>\n",
       "      <td>image-editing</td>\n",
       "    </tr>\n",
       "  </tbody>\n",
       "</table>\n",
       "</div>"
      ],
      "text/plain": [
       "                                        course_id       course_tags\n",
       "0  12-principles-animation-toon-boom-harmony-1475      2d-animation\n",
       "1              2d-racing-game-series-unity-5-1312       game-design\n",
       "2             2d-racing-games-unity-volume-2-1286          game-art\n",
       "3             2d-racing-games-unity-volume-2-1286  digital-painting\n",
       "4             2d-racing-games-unity-volume-2-1286     image-editing"
      ]
     },
     "execution_count": 18,
     "metadata": {},
     "output_type": "execute_result"
    }
   ],
   "source": [
    "course_tags_df.head()"
   ]
  },
  {
   "cell_type": "code",
   "execution_count": 64,
   "id": "7fea8551-3f27-4734-bfe3-3cc7f592d6dd",
   "metadata": {},
   "outputs": [
    {
     "name": "stdout",
     "output_type": "stream",
     "text": [
      "(11337, 2)\n"
     ]
    }
   ],
   "source": [
    "print(course_tags_df.shape)"
   ]
  },
  {
   "cell_type": "code",
   "execution_count": 20,
   "id": "5163b878-091c-4f1f-8f49-df00bbc44d65",
   "metadata": {},
   "outputs": [
    {
     "data": {
      "text/html": [
       "<div>\n",
       "<style scoped>\n",
       "    .dataframe tbody tr th:only-of-type {\n",
       "        vertical-align: middle;\n",
       "    }\n",
       "\n",
       "    .dataframe tbody tr th {\n",
       "        vertical-align: top;\n",
       "    }\n",
       "\n",
       "    .dataframe thead th {\n",
       "        text-align: right;\n",
       "    }\n",
       "</style>\n",
       "<table border=\"1\" class=\"dataframe\">\n",
       "  <thead>\n",
       "    <tr style=\"text-align: right;\">\n",
       "      <th></th>\n",
       "      <th>user_handle</th>\n",
       "      <th>assessment_tag</th>\n",
       "      <th>user_assessment_date</th>\n",
       "      <th>user_assessment_score</th>\n",
       "    </tr>\n",
       "  </thead>\n",
       "  <tbody>\n",
       "    <tr>\n",
       "      <th>0</th>\n",
       "      <td>7487</td>\n",
       "      <td>angular-js</td>\n",
       "      <td>2017-08-11 19:03:38</td>\n",
       "      <td>134</td>\n",
       "    </tr>\n",
       "    <tr>\n",
       "      <th>1</th>\n",
       "      <td>7487</td>\n",
       "      <td>css</td>\n",
       "      <td>2017-08-11 20:09:56</td>\n",
       "      <td>38</td>\n",
       "    </tr>\n",
       "    <tr>\n",
       "      <th>2</th>\n",
       "      <td>7487</td>\n",
       "      <td>html5</td>\n",
       "      <td>2017-07-31 18:59:37</td>\n",
       "      <td>84</td>\n",
       "    </tr>\n",
       "    <tr>\n",
       "      <th>3</th>\n",
       "      <td>7487</td>\n",
       "      <td>java</td>\n",
       "      <td>2017-07-31 18:49:27</td>\n",
       "      <td>149</td>\n",
       "    </tr>\n",
       "    <tr>\n",
       "      <th>4</th>\n",
       "      <td>7487</td>\n",
       "      <td>javascript</td>\n",
       "      <td>2017-07-31 19:05:03</td>\n",
       "      <td>92</td>\n",
       "    </tr>\n",
       "  </tbody>\n",
       "</table>\n",
       "</div>"
      ],
      "text/plain": [
       "   user_handle assessment_tag user_assessment_date  user_assessment_score\n",
       "0         7487     angular-js  2017-08-11 19:03:38                    134\n",
       "1         7487            css  2017-08-11 20:09:56                     38\n",
       "2         7487          html5  2017-07-31 18:59:37                     84\n",
       "3         7487           java  2017-07-31 18:49:27                    149\n",
       "4         7487     javascript  2017-07-31 19:05:03                     92"
      ]
     },
     "execution_count": 20,
     "metadata": {},
     "output_type": "execute_result"
    }
   ],
   "source": [
    "user_assessment_scores_df.head()"
   ]
  },
  {
   "cell_type": "code",
   "execution_count": 21,
   "id": "dc0fda42-940a-449c-861c-6bd106a6227a",
   "metadata": {},
   "outputs": [
    {
     "name": "stdout",
     "output_type": "stream",
     "text": [
      "(6571, 4)\n"
     ]
    }
   ],
   "source": [
    "print(user_assessment_scores_df.shape)"
   ]
  },
  {
   "cell_type": "code",
   "execution_count": 22,
   "id": "a543bd22-87f8-4678-8184-53dc4fd15e2e",
   "metadata": {},
   "outputs": [
    {
     "data": {
      "text/html": [
       "<div>\n",
       "<style scoped>\n",
       "    .dataframe tbody tr th:only-of-type {\n",
       "        vertical-align: middle;\n",
       "    }\n",
       "\n",
       "    .dataframe tbody tr th {\n",
       "        vertical-align: top;\n",
       "    }\n",
       "\n",
       "    .dataframe thead th {\n",
       "        text-align: right;\n",
       "    }\n",
       "</style>\n",
       "<table border=\"1\" class=\"dataframe\">\n",
       "  <thead>\n",
       "    <tr style=\"text-align: right;\">\n",
       "      <th></th>\n",
       "      <th>user_handle</th>\n",
       "      <th>view_date</th>\n",
       "      <th>course_id</th>\n",
       "      <th>author_handle</th>\n",
       "      <th>level</th>\n",
       "      <th>view_time_seconds</th>\n",
       "    </tr>\n",
       "  </thead>\n",
       "  <tbody>\n",
       "    <tr>\n",
       "      <th>0</th>\n",
       "      <td>1</td>\n",
       "      <td>2017-06-27</td>\n",
       "      <td>cpt-sp2010-web-designers-branding-intro</td>\n",
       "      <td>875</td>\n",
       "      <td>Beginner</td>\n",
       "      <td>3786</td>\n",
       "    </tr>\n",
       "    <tr>\n",
       "      <th>1</th>\n",
       "      <td>1</td>\n",
       "      <td>2017-06-28</td>\n",
       "      <td>cpt-sp2010-web-designers-branding-intro</td>\n",
       "      <td>875</td>\n",
       "      <td>Beginner</td>\n",
       "      <td>1098</td>\n",
       "    </tr>\n",
       "    <tr>\n",
       "      <th>2</th>\n",
       "      <td>1</td>\n",
       "      <td>2017-06-28</td>\n",
       "      <td>cpt-sp2010-web-designers-css</td>\n",
       "      <td>875</td>\n",
       "      <td>Intermediate</td>\n",
       "      <td>4406</td>\n",
       "    </tr>\n",
       "    <tr>\n",
       "      <th>3</th>\n",
       "      <td>1</td>\n",
       "      <td>2017-07-27</td>\n",
       "      <td>cpt-sp2010-web-designers-css</td>\n",
       "      <td>875</td>\n",
       "      <td>Intermediate</td>\n",
       "      <td>553</td>\n",
       "    </tr>\n",
       "    <tr>\n",
       "      <th>4</th>\n",
       "      <td>1</td>\n",
       "      <td>2017-09-12</td>\n",
       "      <td>aws-certified-solutions-architect-professional</td>\n",
       "      <td>281</td>\n",
       "      <td>Advanced</td>\n",
       "      <td>102</td>\n",
       "    </tr>\n",
       "  </tbody>\n",
       "</table>\n",
       "</div>"
      ],
      "text/plain": [
       "   user_handle   view_date                                       course_id  \\\n",
       "0            1  2017-06-27         cpt-sp2010-web-designers-branding-intro   \n",
       "1            1  2017-06-28         cpt-sp2010-web-designers-branding-intro   \n",
       "2            1  2017-06-28                    cpt-sp2010-web-designers-css   \n",
       "3            1  2017-07-27                    cpt-sp2010-web-designers-css   \n",
       "4            1  2017-09-12  aws-certified-solutions-architect-professional   \n",
       "\n",
       "   author_handle         level  view_time_seconds  \n",
       "0            875      Beginner               3786  \n",
       "1            875      Beginner               1098  \n",
       "2            875  Intermediate               4406  \n",
       "3            875  Intermediate                553  \n",
       "4            281      Advanced                102  "
      ]
     },
     "execution_count": 22,
     "metadata": {},
     "output_type": "execute_result"
    }
   ],
   "source": [
    "user_course_views_df.head()"
   ]
  },
  {
   "cell_type": "code",
   "execution_count": 28,
   "id": "fe1e9b95-b447-41de-8d2e-478bb5e46b07",
   "metadata": {},
   "outputs": [
    {
     "data": {
      "text/html": [
       "<div>\n",
       "<style scoped>\n",
       "    .dataframe tbody tr th:only-of-type {\n",
       "        vertical-align: middle;\n",
       "    }\n",
       "\n",
       "    .dataframe tbody tr th {\n",
       "        vertical-align: top;\n",
       "    }\n",
       "\n",
       "    .dataframe thead th {\n",
       "        text-align: right;\n",
       "    }\n",
       "</style>\n",
       "<table border=\"1\" class=\"dataframe\">\n",
       "  <thead>\n",
       "    <tr style=\"text-align: right;\">\n",
       "      <th></th>\n",
       "      <th>user_handle</th>\n",
       "      <th>view_date</th>\n",
       "      <th>course_id</th>\n",
       "      <th>author_handle</th>\n",
       "      <th>level</th>\n",
       "      <th>view_time_seconds</th>\n",
       "    </tr>\n",
       "  </thead>\n",
       "  <tbody>\n",
       "    <tr>\n",
       "      <th>0</th>\n",
       "      <td>1</td>\n",
       "      <td>2017-06-27</td>\n",
       "      <td>cpt-sp2010-web-designers-branding-intro</td>\n",
       "      <td>875</td>\n",
       "      <td>Beginner</td>\n",
       "      <td>3786</td>\n",
       "    </tr>\n",
       "    <tr>\n",
       "      <th>1</th>\n",
       "      <td>1</td>\n",
       "      <td>2017-06-28</td>\n",
       "      <td>cpt-sp2010-web-designers-branding-intro</td>\n",
       "      <td>875</td>\n",
       "      <td>Beginner</td>\n",
       "      <td>1098</td>\n",
       "    </tr>\n",
       "    <tr>\n",
       "      <th>2</th>\n",
       "      <td>1</td>\n",
       "      <td>2017-06-28</td>\n",
       "      <td>cpt-sp2010-web-designers-css</td>\n",
       "      <td>875</td>\n",
       "      <td>Intermediate</td>\n",
       "      <td>4406</td>\n",
       "    </tr>\n",
       "    <tr>\n",
       "      <th>3</th>\n",
       "      <td>1</td>\n",
       "      <td>2017-07-27</td>\n",
       "      <td>cpt-sp2010-web-designers-css</td>\n",
       "      <td>875</td>\n",
       "      <td>Intermediate</td>\n",
       "      <td>553</td>\n",
       "    </tr>\n",
       "    <tr>\n",
       "      <th>4</th>\n",
       "      <td>1</td>\n",
       "      <td>2017-09-12</td>\n",
       "      <td>aws-certified-solutions-architect-professional</td>\n",
       "      <td>281</td>\n",
       "      <td>Advanced</td>\n",
       "      <td>102</td>\n",
       "    </tr>\n",
       "    <tr>\n",
       "      <th>5</th>\n",
       "      <td>1</td>\n",
       "      <td>2017-09-12</td>\n",
       "      <td>aws-certified-sysops-admin-associate</td>\n",
       "      <td>281</td>\n",
       "      <td>Intermediate</td>\n",
       "      <td>83</td>\n",
       "    </tr>\n",
       "    <tr>\n",
       "      <th>6</th>\n",
       "      <td>1</td>\n",
       "      <td>2017-09-12</td>\n",
       "      <td>aws-system-admin-fundamentals</td>\n",
       "      <td>281</td>\n",
       "      <td>Beginner</td>\n",
       "      <td>2665</td>\n",
       "    </tr>\n",
       "    <tr>\n",
       "      <th>7</th>\n",
       "      <td>1</td>\n",
       "      <td>2017-10-16</td>\n",
       "      <td>react-js-getting-started</td>\n",
       "      <td>795</td>\n",
       "      <td>Beginner</td>\n",
       "      <td>3593</td>\n",
       "    </tr>\n",
       "  </tbody>\n",
       "</table>\n",
       "</div>"
      ],
      "text/plain": [
       "   user_handle   view_date                                       course_id  \\\n",
       "0            1  2017-06-27         cpt-sp2010-web-designers-branding-intro   \n",
       "1            1  2017-06-28         cpt-sp2010-web-designers-branding-intro   \n",
       "2            1  2017-06-28                    cpt-sp2010-web-designers-css   \n",
       "3            1  2017-07-27                    cpt-sp2010-web-designers-css   \n",
       "4            1  2017-09-12  aws-certified-solutions-architect-professional   \n",
       "5            1  2017-09-12            aws-certified-sysops-admin-associate   \n",
       "6            1  2017-09-12                   aws-system-admin-fundamentals   \n",
       "7            1  2017-10-16                        react-js-getting-started   \n",
       "\n",
       "   author_handle         level  view_time_seconds  \n",
       "0            875      Beginner               3786  \n",
       "1            875      Beginner               1098  \n",
       "2            875  Intermediate               4406  \n",
       "3            875  Intermediate                553  \n",
       "4            281      Advanced                102  \n",
       "5            281  Intermediate                 83  \n",
       "6            281      Beginner               2665  \n",
       "7            795      Beginner               3593  "
      ]
     },
     "execution_count": 28,
     "metadata": {},
     "output_type": "execute_result"
    }
   ],
   "source": [
    "user_course_views_df[user_course_views_df.user_handle == 1]"
   ]
  },
  {
   "cell_type": "code",
   "execution_count": 56,
   "id": "708d673f-88b0-4729-a308-99e1e8ec4750",
   "metadata": {},
   "outputs": [
    {
     "name": "stdout",
     "output_type": "stream",
     "text": [
      "(249238, 6)\n"
     ]
    }
   ],
   "source": [
    "print(user_course_views_df.shape)"
   ]
  },
  {
   "cell_type": "code",
   "execution_count": 24,
   "id": "9905a3a6-a8cc-416c-a9b3-b0339b0c1959",
   "metadata": {},
   "outputs": [
    {
     "data": {
      "text/html": [
       "<div>\n",
       "<style scoped>\n",
       "    .dataframe tbody tr th:only-of-type {\n",
       "        vertical-align: middle;\n",
       "    }\n",
       "\n",
       "    .dataframe tbody tr th {\n",
       "        vertical-align: top;\n",
       "    }\n",
       "\n",
       "    .dataframe thead th {\n",
       "        text-align: right;\n",
       "    }\n",
       "</style>\n",
       "<table border=\"1\" class=\"dataframe\">\n",
       "  <thead>\n",
       "    <tr style=\"text-align: right;\">\n",
       "      <th></th>\n",
       "      <th>user_handle</th>\n",
       "      <th>interest_tag</th>\n",
       "      <th>date_followed</th>\n",
       "    </tr>\n",
       "  </thead>\n",
       "  <tbody>\n",
       "    <tr>\n",
       "      <th>0</th>\n",
       "      <td>1</td>\n",
       "      <td>mvc-scaffolding</td>\n",
       "      <td>2017-06-27 16:26:52</td>\n",
       "    </tr>\n",
       "    <tr>\n",
       "      <th>1</th>\n",
       "      <td>1</td>\n",
       "      <td>mvc2</td>\n",
       "      <td>2017-06-27 16:26:52</td>\n",
       "    </tr>\n",
       "    <tr>\n",
       "      <th>2</th>\n",
       "      <td>1</td>\n",
       "      <td>mvc-html-helpers</td>\n",
       "      <td>2017-06-27 16:26:52</td>\n",
       "    </tr>\n",
       "    <tr>\n",
       "      <th>3</th>\n",
       "      <td>1</td>\n",
       "      <td>mvc4-ioc</td>\n",
       "      <td>2017-06-27 16:26:52</td>\n",
       "    </tr>\n",
       "    <tr>\n",
       "      <th>4</th>\n",
       "      <td>1</td>\n",
       "      <td>mvc-testing</td>\n",
       "      <td>2017-06-27 16:26:52</td>\n",
       "    </tr>\n",
       "  </tbody>\n",
       "</table>\n",
       "</div>"
      ],
      "text/plain": [
       "   user_handle      interest_tag        date_followed\n",
       "0            1   mvc-scaffolding  2017-06-27 16:26:52\n",
       "1            1              mvc2  2017-06-27 16:26:52\n",
       "2            1  mvc-html-helpers  2017-06-27 16:26:52\n",
       "3            1          mvc4-ioc  2017-06-27 16:26:52\n",
       "4            1       mvc-testing  2017-06-27 16:26:52"
      ]
     },
     "execution_count": 24,
     "metadata": {},
     "output_type": "execute_result"
    }
   ],
   "source": [
    "user_interests_df.head()"
   ]
  },
  {
   "cell_type": "code",
   "execution_count": 25,
   "id": "bd465b89-7fff-4dac-978e-9051d1752502",
   "metadata": {},
   "outputs": [
    {
     "name": "stdout",
     "output_type": "stream",
     "text": [
      "(297526, 3)\n"
     ]
    }
   ],
   "source": [
    "print(user_interests_df.shape)"
   ]
  },
  {
   "cell_type": "markdown",
   "id": "84467079-9ee3-4a15-a7c0-6ac76357e3fb",
   "metadata": {},
   "source": [
    "## Check for duplicates"
   ]
  },
  {
   "cell_type": "code",
   "execution_count": 12,
   "id": "2101db20-e698-420a-93e3-5f36b19f767d",
   "metadata": {},
   "outputs": [
    {
     "name": "stdout",
     "output_type": "stream",
     "text": [
      "0\n",
      "0\n",
      "0\n",
      "18209\n"
     ]
    }
   ],
   "source": [
    "print(course_tags_df.duplicated().sum())\n",
    "print(user_assessment_scores_df.duplicated().sum())\n",
    "print(user_course_views_df.duplicated().sum())\n",
    "print(user_interests_df.duplicated().sum())"
   ]
  },
  {
   "cell_type": "code",
   "execution_count": 17,
   "id": "58ea556c-2db7-428e-9b95-fa3b01b27dd4",
   "metadata": {},
   "outputs": [
    {
     "data": {
      "text/plain": [
       "0         False\n",
       "1         False\n",
       "2         False\n",
       "3         False\n",
       "4         False\n",
       "          ...  \n",
       "297521    False\n",
       "297522    False\n",
       "297523    False\n",
       "297524    False\n",
       "297525    False\n",
       "Length: 297526, dtype: bool"
      ]
     },
     "execution_count": 17,
     "metadata": {},
     "output_type": "execute_result"
    }
   ],
   "source": [
    "user_interests_df.duplicated()"
   ]
  },
  {
   "cell_type": "markdown",
   "id": "d0471b99-5626-4ffb-a8df-d36717a1444f",
   "metadata": {},
   "source": [
    "## Check for null values"
   ]
  },
  {
   "cell_type": "code",
   "execution_count": 33,
   "id": "41e2b22c-cc54-4025-bf94-38f3941283e5",
   "metadata": {},
   "outputs": [
    {
     "name": "stdout",
     "output_type": "stream",
     "text": [
      "Course tags\n",
      "course_tags    112\n",
      "course_id        0\n",
      "dtype: int64\n",
      "\n",
      "User assessment scores\n",
      "user_handle              0\n",
      "assessment_tag           0\n",
      "user_assessment_date     0\n",
      "user_assessment_score    0\n",
      "dtype: int64\n",
      "\n",
      "User course views\n",
      "user_handle          0\n",
      "view_date            0\n",
      "course_id            0\n",
      "author_handle        0\n",
      "level                0\n",
      "view_time_seconds    0\n",
      "dtype: int64\n",
      "\n",
      "User interests\n",
      "user_handle      0\n",
      "interest_tag     0\n",
      "date_followed    0\n",
      "dtype: int64\n"
     ]
    }
   ],
   "source": [
    "print('Course tags')\n",
    "print(course_tags_df.isnull().sum().sort_values(ascending=False))\n",
    "print('\\nUser assessment scores')\n",
    "print(user_assessment_scores_df.isnull().sum().sort_values(ascending=False))\n",
    "print('\\nUser course views')\n",
    "print(user_course_views_df.isnull().sum().sort_values(ascending=False))\n",
    "print('\\nUser interests')\n",
    "print(user_interests_df.isnull().sum().sort_values(ascending=False))"
   ]
  },
  {
   "cell_type": "code",
   "execution_count": null,
   "id": "ee526087-12c3-4fe3-a581-305ae034f0b9",
   "metadata": {},
   "outputs": [],
   "source": [
    "# Join user_course_views and course_tags on course_id\n",
    "# Get list of all the unique courses\n",
    "# K-Nearest neighbors\n",
    "# Cosine similarity"
   ]
  },
  {
   "cell_type": "code",
   "execution_count": 67,
   "id": "aa4a1435-2c8f-4fe6-9a06-386b70489595",
   "metadata": {},
   "outputs": [
    {
     "data": {
      "text/plain": [
       "999"
      ]
     },
     "execution_count": 67,
     "metadata": {},
     "output_type": "execute_result"
    }
   ],
   "source": [
    "# get all unique course tags\n",
    "len(course_tags_df.course_tags.unique())"
   ]
  },
  {
   "cell_type": "code",
   "execution_count": 38,
   "id": "ccb7ba85-836d-4fa3-97fe-27c7cfca48d4",
   "metadata": {},
   "outputs": [
    {
     "data": {
      "text/plain": [
       "8760"
      ]
     },
     "execution_count": 38,
     "metadata": {},
     "output_type": "execute_result"
    }
   ],
   "source": [
    "# number of unique users\n",
    "len(user_course_views_df.user_handle.unique())"
   ]
  },
  {
   "cell_type": "code",
   "execution_count": 39,
   "id": "7cd4fd63-66b2-4da1-883a-18d496a174e7",
   "metadata": {},
   "outputs": [
    {
     "data": {
      "text/plain": [
       "10000"
      ]
     },
     "execution_count": 39,
     "metadata": {},
     "output_type": "execute_result"
    }
   ],
   "source": [
    "len(user_interests_df.user_handle.unique())"
   ]
  },
  {
   "cell_type": "code",
   "execution_count": 62,
   "id": "3ce6edc7-75e3-44dd-b09c-8a1dca9fbe18",
   "metadata": {},
   "outputs": [
    {
     "data": {
      "text/plain": [
       "476527"
      ]
     },
     "execution_count": 62,
     "metadata": {},
     "output_type": "execute_result"
    }
   ],
   "source": [
    "# Join user_course_views and course_tags\n",
    "course_views_tags_df = pd.merge(user_course_views_df, course_tags_df, how='outer', on='course_id')\n",
    "len(course_views_tags_df)"
   ]
  },
  {
   "cell_type": "code",
   "execution_count": 66,
   "id": "11686c2d-6d8a-4750-a2c8-ce9c07c2c244",
   "metadata": {},
   "outputs": [
    {
     "data": {
      "text/html": [
       "<div>\n",
       "<style scoped>\n",
       "    .dataframe tbody tr th:only-of-type {\n",
       "        vertical-align: middle;\n",
       "    }\n",
       "\n",
       "    .dataframe tbody tr th {\n",
       "        vertical-align: top;\n",
       "    }\n",
       "\n",
       "    .dataframe thead th {\n",
       "        text-align: right;\n",
       "    }\n",
       "</style>\n",
       "<table border=\"1\" class=\"dataframe\">\n",
       "  <thead>\n",
       "    <tr style=\"text-align: right;\">\n",
       "      <th></th>\n",
       "      <th>user_handle</th>\n",
       "      <th>view_date</th>\n",
       "      <th>course_id</th>\n",
       "      <th>author_handle</th>\n",
       "      <th>level</th>\n",
       "      <th>view_time_seconds</th>\n",
       "      <th>course_tags</th>\n",
       "    </tr>\n",
       "  </thead>\n",
       "  <tbody>\n",
       "    <tr>\n",
       "      <th>0</th>\n",
       "      <td>1</td>\n",
       "      <td>2017-06-27</td>\n",
       "      <td>cpt-sp2010-web-designers-branding-intro</td>\n",
       "      <td>875</td>\n",
       "      <td>Beginner</td>\n",
       "      <td>3786</td>\n",
       "      <td>sharepoint</td>\n",
       "    </tr>\n",
       "    <tr>\n",
       "      <th>1</th>\n",
       "      <td>1</td>\n",
       "      <td>2017-06-28</td>\n",
       "      <td>cpt-sp2010-web-designers-branding-intro</td>\n",
       "      <td>875</td>\n",
       "      <td>Beginner</td>\n",
       "      <td>1098</td>\n",
       "      <td>sharepoint</td>\n",
       "    </tr>\n",
       "    <tr>\n",
       "      <th>2</th>\n",
       "      <td>3963</td>\n",
       "      <td>2017-08-22</td>\n",
       "      <td>cpt-sp2010-web-designers-branding-intro</td>\n",
       "      <td>875</td>\n",
       "      <td>Beginner</td>\n",
       "      <td>1291</td>\n",
       "      <td>sharepoint</td>\n",
       "    </tr>\n",
       "    <tr>\n",
       "      <th>3</th>\n",
       "      <td>3963</td>\n",
       "      <td>2017-08-23</td>\n",
       "      <td>cpt-sp2010-web-designers-branding-intro</td>\n",
       "      <td>875</td>\n",
       "      <td>Beginner</td>\n",
       "      <td>2029</td>\n",
       "      <td>sharepoint</td>\n",
       "    </tr>\n",
       "    <tr>\n",
       "      <th>4</th>\n",
       "      <td>4532</td>\n",
       "      <td>2017-08-10</td>\n",
       "      <td>cpt-sp2010-web-designers-branding-intro</td>\n",
       "      <td>875</td>\n",
       "      <td>Beginner</td>\n",
       "      <td>4703</td>\n",
       "      <td>sharepoint</td>\n",
       "    </tr>\n",
       "    <tr>\n",
       "      <th>5</th>\n",
       "      <td>4532</td>\n",
       "      <td>2017-08-11</td>\n",
       "      <td>cpt-sp2010-web-designers-branding-intro</td>\n",
       "      <td>875</td>\n",
       "      <td>Beginner</td>\n",
       "      <td>497</td>\n",
       "      <td>sharepoint</td>\n",
       "    </tr>\n",
       "    <tr>\n",
       "      <th>6</th>\n",
       "      <td>4645</td>\n",
       "      <td>2017-07-15</td>\n",
       "      <td>cpt-sp2010-web-designers-branding-intro</td>\n",
       "      <td>875</td>\n",
       "      <td>Beginner</td>\n",
       "      <td>2513</td>\n",
       "      <td>sharepoint</td>\n",
       "    </tr>\n",
       "    <tr>\n",
       "      <th>7</th>\n",
       "      <td>4645</td>\n",
       "      <td>2017-07-16</td>\n",
       "      <td>cpt-sp2010-web-designers-branding-intro</td>\n",
       "      <td>875</td>\n",
       "      <td>Beginner</td>\n",
       "      <td>1525</td>\n",
       "      <td>sharepoint</td>\n",
       "    </tr>\n",
       "    <tr>\n",
       "      <th>8</th>\n",
       "      <td>5443</td>\n",
       "      <td>2017-05-24</td>\n",
       "      <td>cpt-sp2010-web-designers-branding-intro</td>\n",
       "      <td>875</td>\n",
       "      <td>Beginner</td>\n",
       "      <td>3013</td>\n",
       "      <td>sharepoint</td>\n",
       "    </tr>\n",
       "    <tr>\n",
       "      <th>9</th>\n",
       "      <td>5608</td>\n",
       "      <td>2017-07-10</td>\n",
       "      <td>cpt-sp2010-web-designers-branding-intro</td>\n",
       "      <td>875</td>\n",
       "      <td>Beginner</td>\n",
       "      <td>1065</td>\n",
       "      <td>sharepoint</td>\n",
       "    </tr>\n",
       "    <tr>\n",
       "      <th>10</th>\n",
       "      <td>5608</td>\n",
       "      <td>2017-07-12</td>\n",
       "      <td>cpt-sp2010-web-designers-branding-intro</td>\n",
       "      <td>875</td>\n",
       "      <td>Beginner</td>\n",
       "      <td>613</td>\n",
       "      <td>sharepoint</td>\n",
       "    </tr>\n",
       "    <tr>\n",
       "      <th>11</th>\n",
       "      <td>8067</td>\n",
       "      <td>2017-07-13</td>\n",
       "      <td>cpt-sp2010-web-designers-branding-intro</td>\n",
       "      <td>875</td>\n",
       "      <td>Beginner</td>\n",
       "      <td>106</td>\n",
       "      <td>sharepoint</td>\n",
       "    </tr>\n",
       "    <tr>\n",
       "      <th>12</th>\n",
       "      <td>8615</td>\n",
       "      <td>2017-06-05</td>\n",
       "      <td>cpt-sp2010-web-designers-branding-intro</td>\n",
       "      <td>875</td>\n",
       "      <td>Beginner</td>\n",
       "      <td>7</td>\n",
       "      <td>sharepoint</td>\n",
       "    </tr>\n",
       "    <tr>\n",
       "      <th>13</th>\n",
       "      <td>1</td>\n",
       "      <td>2017-06-28</td>\n",
       "      <td>cpt-sp2010-web-designers-css</td>\n",
       "      <td>875</td>\n",
       "      <td>Intermediate</td>\n",
       "      <td>4406</td>\n",
       "      <td>sharepoint</td>\n",
       "    </tr>\n",
       "    <tr>\n",
       "      <th>14</th>\n",
       "      <td>1</td>\n",
       "      <td>2017-07-27</td>\n",
       "      <td>cpt-sp2010-web-designers-css</td>\n",
       "      <td>875</td>\n",
       "      <td>Intermediate</td>\n",
       "      <td>553</td>\n",
       "      <td>sharepoint</td>\n",
       "    </tr>\n",
       "    <tr>\n",
       "      <th>15</th>\n",
       "      <td>1</td>\n",
       "      <td>2017-09-12</td>\n",
       "      <td>aws-certified-solutions-architect-professional</td>\n",
       "      <td>281</td>\n",
       "      <td>Advanced</td>\n",
       "      <td>102</td>\n",
       "      <td>cloud-computing</td>\n",
       "    </tr>\n",
       "    <tr>\n",
       "      <th>16</th>\n",
       "      <td>1</td>\n",
       "      <td>2017-09-12</td>\n",
       "      <td>aws-certified-solutions-architect-professional</td>\n",
       "      <td>281</td>\n",
       "      <td>Advanced</td>\n",
       "      <td>102</td>\n",
       "      <td>cloud-services</td>\n",
       "    </tr>\n",
       "    <tr>\n",
       "      <th>17</th>\n",
       "      <td>13</td>\n",
       "      <td>2017-06-29</td>\n",
       "      <td>aws-certified-solutions-architect-professional</td>\n",
       "      <td>281</td>\n",
       "      <td>Advanced</td>\n",
       "      <td>4903</td>\n",
       "      <td>cloud-computing</td>\n",
       "    </tr>\n",
       "    <tr>\n",
       "      <th>18</th>\n",
       "      <td>13</td>\n",
       "      <td>2017-06-29</td>\n",
       "      <td>aws-certified-solutions-architect-professional</td>\n",
       "      <td>281</td>\n",
       "      <td>Advanced</td>\n",
       "      <td>4903</td>\n",
       "      <td>cloud-services</td>\n",
       "    </tr>\n",
       "    <tr>\n",
       "      <th>19</th>\n",
       "      <td>142</td>\n",
       "      <td>2017-08-10</td>\n",
       "      <td>aws-certified-solutions-architect-professional</td>\n",
       "      <td>281</td>\n",
       "      <td>Advanced</td>\n",
       "      <td>186</td>\n",
       "      <td>cloud-computing</td>\n",
       "    </tr>\n",
       "  </tbody>\n",
       "</table>\n",
       "</div>"
      ],
      "text/plain": [
       "    user_handle   view_date                                       course_id  \\\n",
       "0             1  2017-06-27         cpt-sp2010-web-designers-branding-intro   \n",
       "1             1  2017-06-28         cpt-sp2010-web-designers-branding-intro   \n",
       "2          3963  2017-08-22         cpt-sp2010-web-designers-branding-intro   \n",
       "3          3963  2017-08-23         cpt-sp2010-web-designers-branding-intro   \n",
       "4          4532  2017-08-10         cpt-sp2010-web-designers-branding-intro   \n",
       "5          4532  2017-08-11         cpt-sp2010-web-designers-branding-intro   \n",
       "6          4645  2017-07-15         cpt-sp2010-web-designers-branding-intro   \n",
       "7          4645  2017-07-16         cpt-sp2010-web-designers-branding-intro   \n",
       "8          5443  2017-05-24         cpt-sp2010-web-designers-branding-intro   \n",
       "9          5608  2017-07-10         cpt-sp2010-web-designers-branding-intro   \n",
       "10         5608  2017-07-12         cpt-sp2010-web-designers-branding-intro   \n",
       "11         8067  2017-07-13         cpt-sp2010-web-designers-branding-intro   \n",
       "12         8615  2017-06-05         cpt-sp2010-web-designers-branding-intro   \n",
       "13            1  2017-06-28                    cpt-sp2010-web-designers-css   \n",
       "14            1  2017-07-27                    cpt-sp2010-web-designers-css   \n",
       "15            1  2017-09-12  aws-certified-solutions-architect-professional   \n",
       "16            1  2017-09-12  aws-certified-solutions-architect-professional   \n",
       "17           13  2017-06-29  aws-certified-solutions-architect-professional   \n",
       "18           13  2017-06-29  aws-certified-solutions-architect-professional   \n",
       "19          142  2017-08-10  aws-certified-solutions-architect-professional   \n",
       "\n",
       "    author_handle         level  view_time_seconds      course_tags  \n",
       "0             875      Beginner               3786       sharepoint  \n",
       "1             875      Beginner               1098       sharepoint  \n",
       "2             875      Beginner               1291       sharepoint  \n",
       "3             875      Beginner               2029       sharepoint  \n",
       "4             875      Beginner               4703       sharepoint  \n",
       "5             875      Beginner                497       sharepoint  \n",
       "6             875      Beginner               2513       sharepoint  \n",
       "7             875      Beginner               1525       sharepoint  \n",
       "8             875      Beginner               3013       sharepoint  \n",
       "9             875      Beginner               1065       sharepoint  \n",
       "10            875      Beginner                613       sharepoint  \n",
       "11            875      Beginner                106       sharepoint  \n",
       "12            875      Beginner                  7       sharepoint  \n",
       "13            875  Intermediate               4406       sharepoint  \n",
       "14            875  Intermediate                553       sharepoint  \n",
       "15            281      Advanced                102  cloud-computing  \n",
       "16            281      Advanced                102   cloud-services  \n",
       "17            281      Advanced               4903  cloud-computing  \n",
       "18            281      Advanced               4903   cloud-services  \n",
       "19            281      Advanced                186  cloud-computing  "
      ]
     },
     "execution_count": 66,
     "metadata": {},
     "output_type": "execute_result"
    }
   ],
   "source": [
    "course_views_tags_df.head(20)"
   ]
  },
  {
   "cell_type": "code",
   "execution_count": 59,
   "id": "0ae9aef6-6df5-48a5-b849-55d42201f77f",
   "metadata": {},
   "outputs": [
    {
     "data": {
      "text/plain": [
       "3344"
      ]
     },
     "execution_count": 59,
     "metadata": {},
     "output_type": "execute_result"
    }
   ],
   "source": [
    "len(course_views_tags_df[course_views_tags_df.isnull().any(axis=1)])"
   ]
  },
  {
   "cell_type": "code",
   "execution_count": 72,
   "id": "fdc7ede9-8c0d-450a-9fef-b80b750e730d",
   "metadata": {},
   "outputs": [
    {
     "data": {
      "text/html": [
       "<div>\n",
       "<style scoped>\n",
       "    .dataframe tbody tr th:only-of-type {\n",
       "        vertical-align: middle;\n",
       "    }\n",
       "\n",
       "    .dataframe tbody tr th {\n",
       "        vertical-align: top;\n",
       "    }\n",
       "\n",
       "    .dataframe thead th {\n",
       "        text-align: right;\n",
       "    }\n",
       "</style>\n",
       "<table border=\"1\" class=\"dataframe\">\n",
       "  <thead>\n",
       "    <tr style=\"text-align: right;\">\n",
       "      <th></th>\n",
       "      <th>user_handle</th>\n",
       "      <th>view_date</th>\n",
       "      <th>course_id</th>\n",
       "      <th>author_handle</th>\n",
       "      <th>level</th>\n",
       "      <th>view_time_seconds</th>\n",
       "      <th>course_tags</th>\n",
       "    </tr>\n",
       "  </thead>\n",
       "  <tbody>\n",
       "  </tbody>\n",
       "</table>\n",
       "</div>"
      ],
      "text/plain": [
       "Empty DataFrame\n",
       "Columns: [user_handle, view_date, course_id, author_handle, level, view_time_seconds, course_tags]\n",
       "Index: []"
      ]
     },
     "execution_count": 72,
     "metadata": {},
     "output_type": "execute_result"
    }
   ],
   "source": [
    "course_views_tags_df[course_views_tags_df.duplicated()]"
   ]
  },
  {
   "cell_type": "code",
   "execution_count": 60,
   "id": "ecd1d667-9ef6-46f1-8df5-36900fbc7d79",
   "metadata": {},
   "outputs": [
    {
     "data": {
      "text/html": [
       "<div>\n",
       "<style scoped>\n",
       "    .dataframe tbody tr th:only-of-type {\n",
       "        vertical-align: middle;\n",
       "    }\n",
       "\n",
       "    .dataframe tbody tr th {\n",
       "        vertical-align: top;\n",
       "    }\n",
       "\n",
       "    .dataframe thead th {\n",
       "        text-align: right;\n",
       "    }\n",
       "</style>\n",
       "<table border=\"1\" class=\"dataframe\">\n",
       "  <thead>\n",
       "    <tr style=\"text-align: right;\">\n",
       "      <th></th>\n",
       "      <th>user_handle</th>\n",
       "      <th>view_date</th>\n",
       "      <th>course_id</th>\n",
       "      <th>author_handle</th>\n",
       "      <th>level</th>\n",
       "      <th>view_time_seconds</th>\n",
       "      <th>course_tags</th>\n",
       "    </tr>\n",
       "  </thead>\n",
       "  <tbody>\n",
       "    <tr>\n",
       "      <th>34367</th>\n",
       "      <td>6</td>\n",
       "      <td>2017-09-14</td>\n",
       "      <td>pmi-acp-introduction-agile-project-management-...</td>\n",
       "      <td>169</td>\n",
       "      <td>Intermediate</td>\n",
       "      <td>338</td>\n",
       "      <td>NaN</td>\n",
       "    </tr>\n",
       "    <tr>\n",
       "      <th>34368</th>\n",
       "      <td>6</td>\n",
       "      <td>2017-09-19</td>\n",
       "      <td>pmi-acp-introduction-agile-project-management-...</td>\n",
       "      <td>169</td>\n",
       "      <td>Intermediate</td>\n",
       "      <td>651</td>\n",
       "      <td>NaN</td>\n",
       "    </tr>\n",
       "    <tr>\n",
       "      <th>34369</th>\n",
       "      <td>6</td>\n",
       "      <td>2017-09-26</td>\n",
       "      <td>pmi-acp-introduction-agile-project-management-...</td>\n",
       "      <td>169</td>\n",
       "      <td>Intermediate</td>\n",
       "      <td>3457</td>\n",
       "      <td>NaN</td>\n",
       "    </tr>\n",
       "    <tr>\n",
       "      <th>34370</th>\n",
       "      <td>6</td>\n",
       "      <td>2017-09-29</td>\n",
       "      <td>pmi-acp-introduction-agile-project-management-...</td>\n",
       "      <td>169</td>\n",
       "      <td>Intermediate</td>\n",
       "      <td>8056</td>\n",
       "      <td>NaN</td>\n",
       "    </tr>\n",
       "    <tr>\n",
       "      <th>34371</th>\n",
       "      <td>271</td>\n",
       "      <td>2017-10-19</td>\n",
       "      <td>pmi-acp-introduction-agile-project-management-...</td>\n",
       "      <td>169</td>\n",
       "      <td>Intermediate</td>\n",
       "      <td>613</td>\n",
       "      <td>NaN</td>\n",
       "    </tr>\n",
       "  </tbody>\n",
       "</table>\n",
       "</div>"
      ],
      "text/plain": [
       "       user_handle   view_date  \\\n",
       "34367            6  2017-09-14   \n",
       "34368            6  2017-09-19   \n",
       "34369            6  2017-09-26   \n",
       "34370            6  2017-09-29   \n",
       "34371          271  2017-10-19   \n",
       "\n",
       "                                               course_id  author_handle  \\\n",
       "34367  pmi-acp-introduction-agile-project-management-...            169   \n",
       "34368  pmi-acp-introduction-agile-project-management-...            169   \n",
       "34369  pmi-acp-introduction-agile-project-management-...            169   \n",
       "34370  pmi-acp-introduction-agile-project-management-...            169   \n",
       "34371  pmi-acp-introduction-agile-project-management-...            169   \n",
       "\n",
       "              level  view_time_seconds course_tags  \n",
       "34367  Intermediate                338         NaN  \n",
       "34368  Intermediate                651         NaN  \n",
       "34369  Intermediate               3457         NaN  \n",
       "34370  Intermediate               8056         NaN  \n",
       "34371  Intermediate                613         NaN  "
      ]
     },
     "execution_count": 60,
     "metadata": {},
     "output_type": "execute_result"
    }
   ],
   "source": [
    "course_views_tags_df[course_views_tags_df.isnull().any(axis=1)].head()"
   ]
  },
  {
   "cell_type": "code",
   "execution_count": null,
   "id": "af82c20f-c7e6-4f31-bc1a-903b3671b64b",
   "metadata": {},
   "outputs": [],
   "source": [
    "user_course_views_tags_assessments = pd.concat([course_views_tags_df, ])"
   ]
  },
  {
   "cell_type": "code",
   "execution_count": null,
   "id": "b5d4c24b-4d32-4d8e-aba7-01bd761f41d4",
   "metadata": {},
   "outputs": [],
   "source": []
  }
 ],
 "metadata": {
  "kernelspec": {
   "display_name": "plenv",
   "language": "python",
   "name": "venv"
  },
  "language_info": {
   "codemirror_mode": {
    "name": "ipython",
    "version": 3
   },
   "file_extension": ".py",
   "mimetype": "text/x-python",
   "name": "python",
   "nbconvert_exporter": "python",
   "pygments_lexer": "ipython3",
   "version": "3.8.2"
  }
 },
 "nbformat": 4,
 "nbformat_minor": 5
}
