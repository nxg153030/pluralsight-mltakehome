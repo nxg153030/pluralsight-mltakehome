{
 "cells": [
  {
   "cell_type": "code",
   "execution_count": 1,
   "id": "0bb434ad-5325-402d-a5e3-17445fcf8b46",
   "metadata": {},
   "outputs": [],
   "source": [
    "import pandas as pd"
   ]
  },
  {
   "cell_type": "code",
   "execution_count": 2,
   "id": "3cd00ae6-0bb0-4090-afae-52ac53f0a933",
   "metadata": {},
   "outputs": [],
   "source": [
    "course_tags_df = pd.read_csv('data/course_tags.csv')\n",
    "user_assessment_scores_df = pd.read_csv('data/user_assessment_scores.csv')\n",
    "user_course_views_df = pd.read_csv('data/user_course_views.csv')\n",
    "user_interests_df = pd.read_csv('data/user_interests.csv')"
   ]
  },
  {
   "cell_type": "code",
   "execution_count": 39,
   "id": "04d813c9-8b52-4797-ac33-9061153d6322",
   "metadata": {},
   "outputs": [
    {
     "data": {
      "text/plain": [
       "3114"
      ]
     },
     "execution_count": 39,
     "metadata": {},
     "output_type": "execute_result"
    }
   ],
   "source": [
    "len(user_assessment_scores_df.user_handle.unique())"
   ]
  },
  {
   "cell_type": "code",
   "execution_count": 40,
   "id": "e67c57a6-6228-49b0-9263-154cbc0b4f55",
   "metadata": {},
   "outputs": [
    {
     "data": {
      "text/plain": [
       "10000"
      ]
     },
     "execution_count": 40,
     "metadata": {},
     "output_type": "execute_result"
    }
   ],
   "source": [
    "len(user_interests_df.user_handle.unique())"
   ]
  },
  {
   "cell_type": "code",
   "execution_count": 4,
   "id": "1eb0b389-bc8b-440c-a4bb-957f34cd8abd",
   "metadata": {},
   "outputs": [],
   "source": [
    "course_tags_slice = course_tags_df[:10]"
   ]
  },
  {
   "cell_type": "code",
   "execution_count": 7,
   "id": "0600bf44-3bd5-46ab-b0da-aa96a27e7974",
   "metadata": {},
   "outputs": [],
   "source": [
    "user_course_views_slice = user_course_views_df[:20]"
   ]
  },
  {
   "cell_type": "code",
   "execution_count": 9,
   "id": "8e4e4b8c-a0c6-4d62-a0b7-62a8c246be7e",
   "metadata": {},
   "outputs": [
    {
     "data": {
      "text/html": [
       "<div>\n",
       "<style scoped>\n",
       "    .dataframe tbody tr th:only-of-type {\n",
       "        vertical-align: middle;\n",
       "    }\n",
       "\n",
       "    .dataframe tbody tr th {\n",
       "        vertical-align: top;\n",
       "    }\n",
       "\n",
       "    .dataframe thead th {\n",
       "        text-align: right;\n",
       "    }\n",
       "</style>\n",
       "<table border=\"1\" class=\"dataframe\">\n",
       "  <thead>\n",
       "    <tr style=\"text-align: right;\">\n",
       "      <th></th>\n",
       "      <th>user_handle</th>\n",
       "      <th>view_date</th>\n",
       "      <th>course_id</th>\n",
       "      <th>author_handle</th>\n",
       "      <th>level</th>\n",
       "      <th>view_time_seconds</th>\n",
       "    </tr>\n",
       "  </thead>\n",
       "  <tbody>\n",
       "    <tr>\n",
       "      <th>0</th>\n",
       "      <td>1</td>\n",
       "      <td>2017-06-27</td>\n",
       "      <td>cpt-sp2010-web-designers-branding-intro</td>\n",
       "      <td>875</td>\n",
       "      <td>Beginner</td>\n",
       "      <td>3786</td>\n",
       "    </tr>\n",
       "    <tr>\n",
       "      <th>1</th>\n",
       "      <td>1</td>\n",
       "      <td>2017-06-28</td>\n",
       "      <td>cpt-sp2010-web-designers-branding-intro</td>\n",
       "      <td>875</td>\n",
       "      <td>Beginner</td>\n",
       "      <td>1098</td>\n",
       "    </tr>\n",
       "    <tr>\n",
       "      <th>2</th>\n",
       "      <td>1</td>\n",
       "      <td>2017-06-28</td>\n",
       "      <td>cpt-sp2010-web-designers-css</td>\n",
       "      <td>875</td>\n",
       "      <td>Intermediate</td>\n",
       "      <td>4406</td>\n",
       "    </tr>\n",
       "    <tr>\n",
       "      <th>3</th>\n",
       "      <td>1</td>\n",
       "      <td>2017-07-27</td>\n",
       "      <td>cpt-sp2010-web-designers-css</td>\n",
       "      <td>875</td>\n",
       "      <td>Intermediate</td>\n",
       "      <td>553</td>\n",
       "    </tr>\n",
       "    <tr>\n",
       "      <th>4</th>\n",
       "      <td>1</td>\n",
       "      <td>2017-09-12</td>\n",
       "      <td>aws-certified-solutions-architect-professional</td>\n",
       "      <td>281</td>\n",
       "      <td>Advanced</td>\n",
       "      <td>102</td>\n",
       "    </tr>\n",
       "  </tbody>\n",
       "</table>\n",
       "</div>"
      ],
      "text/plain": [
       "   user_handle   view_date                                       course_id  \\\n",
       "0            1  2017-06-27         cpt-sp2010-web-designers-branding-intro   \n",
       "1            1  2017-06-28         cpt-sp2010-web-designers-branding-intro   \n",
       "2            1  2017-06-28                    cpt-sp2010-web-designers-css   \n",
       "3            1  2017-07-27                    cpt-sp2010-web-designers-css   \n",
       "4            1  2017-09-12  aws-certified-solutions-architect-professional   \n",
       "\n",
       "   author_handle         level  view_time_seconds  \n",
       "0            875      Beginner               3786  \n",
       "1            875      Beginner               1098  \n",
       "2            875  Intermediate               4406  \n",
       "3            875  Intermediate                553  \n",
       "4            281      Advanced                102  "
      ]
     },
     "execution_count": 9,
     "metadata": {},
     "output_type": "execute_result"
    }
   ],
   "source": [
    "user_course_views_slice.head()"
   ]
  },
  {
   "cell_type": "code",
   "execution_count": 11,
   "id": "0e1a2ab1-32bd-4865-883d-b5cbe0d2b844",
   "metadata": {},
   "outputs": [
    {
     "data": {
      "text/html": [
       "<div>\n",
       "<style scoped>\n",
       "    .dataframe tbody tr th:only-of-type {\n",
       "        vertical-align: middle;\n",
       "    }\n",
       "\n",
       "    .dataframe tbody tr th {\n",
       "        vertical-align: top;\n",
       "    }\n",
       "\n",
       "    .dataframe thead th {\n",
       "        text-align: right;\n",
       "    }\n",
       "</style>\n",
       "<table border=\"1\" class=\"dataframe\">\n",
       "  <thead>\n",
       "    <tr style=\"text-align: right;\">\n",
       "      <th></th>\n",
       "      <th>course_id</th>\n",
       "      <th>course_tags</th>\n",
       "    </tr>\n",
       "  </thead>\n",
       "  <tbody>\n",
       "    <tr>\n",
       "      <th>0</th>\n",
       "      <td>12-principles-animation-toon-boom-harmony-1475</td>\n",
       "      <td>2d-animation</td>\n",
       "    </tr>\n",
       "    <tr>\n",
       "      <th>1</th>\n",
       "      <td>2d-racing-game-series-unity-5-1312</td>\n",
       "      <td>game-design</td>\n",
       "    </tr>\n",
       "    <tr>\n",
       "      <th>2</th>\n",
       "      <td>2d-racing-games-unity-volume-2-1286</td>\n",
       "      <td>game-art</td>\n",
       "    </tr>\n",
       "    <tr>\n",
       "      <th>3</th>\n",
       "      <td>2d-racing-games-unity-volume-2-1286</td>\n",
       "      <td>digital-painting</td>\n",
       "    </tr>\n",
       "    <tr>\n",
       "      <th>4</th>\n",
       "      <td>2d-racing-games-unity-volume-2-1286</td>\n",
       "      <td>image-editing</td>\n",
       "    </tr>\n",
       "  </tbody>\n",
       "</table>\n",
       "</div>"
      ],
      "text/plain": [
       "                                        course_id       course_tags\n",
       "0  12-principles-animation-toon-boom-harmony-1475      2d-animation\n",
       "1              2d-racing-game-series-unity-5-1312       game-design\n",
       "2             2d-racing-games-unity-volume-2-1286          game-art\n",
       "3             2d-racing-games-unity-volume-2-1286  digital-painting\n",
       "4             2d-racing-games-unity-volume-2-1286     image-editing"
      ]
     },
     "execution_count": 11,
     "metadata": {},
     "output_type": "execute_result"
    }
   ],
   "source": [
    "course_tags_slice.head()"
   ]
  },
  {
   "cell_type": "code",
   "execution_count": 24,
   "id": "24a94576-4c3d-499f-9c03-52c880370ad5",
   "metadata": {},
   "outputs": [],
   "source": [
    "merged = pd.merge(user_course_views_df, course_tags_df, how='left')"
   ]
  },
  {
   "cell_type": "code",
   "execution_count": 25,
   "id": "a2a7c53b-a32f-4c3f-b7f9-634fb4b703e0",
   "metadata": {},
   "outputs": [
    {
     "data": {
      "text/html": [
       "<div>\n",
       "<style scoped>\n",
       "    .dataframe tbody tr th:only-of-type {\n",
       "        vertical-align: middle;\n",
       "    }\n",
       "\n",
       "    .dataframe tbody tr th {\n",
       "        vertical-align: top;\n",
       "    }\n",
       "\n",
       "    .dataframe thead th {\n",
       "        text-align: right;\n",
       "    }\n",
       "</style>\n",
       "<table border=\"1\" class=\"dataframe\">\n",
       "  <thead>\n",
       "    <tr style=\"text-align: right;\">\n",
       "      <th></th>\n",
       "      <th>user_handle</th>\n",
       "      <th>view_date</th>\n",
       "      <th>course_id</th>\n",
       "      <th>author_handle</th>\n",
       "      <th>level</th>\n",
       "      <th>view_time_seconds</th>\n",
       "      <th>course_tags</th>\n",
       "    </tr>\n",
       "  </thead>\n",
       "  <tbody>\n",
       "    <tr>\n",
       "      <th>0</th>\n",
       "      <td>1</td>\n",
       "      <td>2017-06-27</td>\n",
       "      <td>cpt-sp2010-web-designers-branding-intro</td>\n",
       "      <td>875</td>\n",
       "      <td>Beginner</td>\n",
       "      <td>3786</td>\n",
       "      <td>sharepoint</td>\n",
       "    </tr>\n",
       "    <tr>\n",
       "      <th>1</th>\n",
       "      <td>1</td>\n",
       "      <td>2017-06-28</td>\n",
       "      <td>cpt-sp2010-web-designers-branding-intro</td>\n",
       "      <td>875</td>\n",
       "      <td>Beginner</td>\n",
       "      <td>1098</td>\n",
       "      <td>sharepoint</td>\n",
       "    </tr>\n",
       "    <tr>\n",
       "      <th>2</th>\n",
       "      <td>1</td>\n",
       "      <td>2017-06-28</td>\n",
       "      <td>cpt-sp2010-web-designers-css</td>\n",
       "      <td>875</td>\n",
       "      <td>Intermediate</td>\n",
       "      <td>4406</td>\n",
       "      <td>sharepoint</td>\n",
       "    </tr>\n",
       "    <tr>\n",
       "      <th>3</th>\n",
       "      <td>1</td>\n",
       "      <td>2017-07-27</td>\n",
       "      <td>cpt-sp2010-web-designers-css</td>\n",
       "      <td>875</td>\n",
       "      <td>Intermediate</td>\n",
       "      <td>553</td>\n",
       "      <td>sharepoint</td>\n",
       "    </tr>\n",
       "    <tr>\n",
       "      <th>4</th>\n",
       "      <td>1</td>\n",
       "      <td>2017-09-12</td>\n",
       "      <td>aws-certified-solutions-architect-professional</td>\n",
       "      <td>281</td>\n",
       "      <td>Advanced</td>\n",
       "      <td>102</td>\n",
       "      <td>cloud-computing</td>\n",
       "    </tr>\n",
       "    <tr>\n",
       "      <th>...</th>\n",
       "      <td>...</td>\n",
       "      <td>...</td>\n",
       "      <td>...</td>\n",
       "      <td>...</td>\n",
       "      <td>...</td>\n",
       "      <td>...</td>\n",
       "      <td>...</td>\n",
       "    </tr>\n",
       "    <tr>\n",
       "      <th>476522</th>\n",
       "      <td>9999</td>\n",
       "      <td>2017-10-13</td>\n",
       "      <td>python-getting-started</td>\n",
       "      <td>104</td>\n",
       "      <td>Beginner</td>\n",
       "      <td>2449</td>\n",
       "      <td>python</td>\n",
       "    </tr>\n",
       "    <tr>\n",
       "      <th>476523</th>\n",
       "      <td>9999</td>\n",
       "      <td>2017-10-14</td>\n",
       "      <td>python-getting-started</td>\n",
       "      <td>104</td>\n",
       "      <td>Beginner</td>\n",
       "      <td>1612</td>\n",
       "      <td>python</td>\n",
       "    </tr>\n",
       "    <tr>\n",
       "      <th>476524</th>\n",
       "      <td>10000</td>\n",
       "      <td>2017-08-18</td>\n",
       "      <td>apex-absolute-beginner-guide-coding-salesforce</td>\n",
       "      <td>229</td>\n",
       "      <td>Beginner</td>\n",
       "      <td>402</td>\n",
       "      <td>salesforce</td>\n",
       "    </tr>\n",
       "    <tr>\n",
       "      <th>476525</th>\n",
       "      <td>10000</td>\n",
       "      <td>2017-08-21</td>\n",
       "      <td>apex-absolute-beginner-guide-coding-salesforce</td>\n",
       "      <td>229</td>\n",
       "      <td>Beginner</td>\n",
       "      <td>9500</td>\n",
       "      <td>salesforce</td>\n",
       "    </tr>\n",
       "    <tr>\n",
       "      <th>476526</th>\n",
       "      <td>10000</td>\n",
       "      <td>2017-08-21</td>\n",
       "      <td>apex-fundamental-coding</td>\n",
       "      <td>229</td>\n",
       "      <td>Beginner</td>\n",
       "      <td>1659</td>\n",
       "      <td>salesforce</td>\n",
       "    </tr>\n",
       "  </tbody>\n",
       "</table>\n",
       "<p>476527 rows × 7 columns</p>\n",
       "</div>"
      ],
      "text/plain": [
       "        user_handle   view_date  \\\n",
       "0                 1  2017-06-27   \n",
       "1                 1  2017-06-28   \n",
       "2                 1  2017-06-28   \n",
       "3                 1  2017-07-27   \n",
       "4                 1  2017-09-12   \n",
       "...             ...         ...   \n",
       "476522         9999  2017-10-13   \n",
       "476523         9999  2017-10-14   \n",
       "476524        10000  2017-08-18   \n",
       "476525        10000  2017-08-21   \n",
       "476526        10000  2017-08-21   \n",
       "\n",
       "                                             course_id  author_handle  \\\n",
       "0              cpt-sp2010-web-designers-branding-intro            875   \n",
       "1              cpt-sp2010-web-designers-branding-intro            875   \n",
       "2                         cpt-sp2010-web-designers-css            875   \n",
       "3                         cpt-sp2010-web-designers-css            875   \n",
       "4       aws-certified-solutions-architect-professional            281   \n",
       "...                                                ...            ...   \n",
       "476522                          python-getting-started            104   \n",
       "476523                          python-getting-started            104   \n",
       "476524  apex-absolute-beginner-guide-coding-salesforce            229   \n",
       "476525  apex-absolute-beginner-guide-coding-salesforce            229   \n",
       "476526                         apex-fundamental-coding            229   \n",
       "\n",
       "               level  view_time_seconds      course_tags  \n",
       "0           Beginner               3786       sharepoint  \n",
       "1           Beginner               1098       sharepoint  \n",
       "2       Intermediate               4406       sharepoint  \n",
       "3       Intermediate                553       sharepoint  \n",
       "4           Advanced                102  cloud-computing  \n",
       "...              ...                ...              ...  \n",
       "476522      Beginner               2449           python  \n",
       "476523      Beginner               1612           python  \n",
       "476524      Beginner                402       salesforce  \n",
       "476525      Beginner               9500       salesforce  \n",
       "476526      Beginner               1659       salesforce  \n",
       "\n",
       "[476527 rows x 7 columns]"
      ]
     },
     "execution_count": 25,
     "metadata": {},
     "output_type": "execute_result"
    }
   ],
   "source": [
    "merged"
   ]
  },
  {
   "cell_type": "code",
   "execution_count": 27,
   "id": "8f553eda-0cb5-4861-b334-aac7249c92a7",
   "metadata": {},
   "outputs": [
    {
     "data": {
      "text/plain": [
       "(249238, 6)"
      ]
     },
     "execution_count": 27,
     "metadata": {},
     "output_type": "execute_result"
    }
   ],
   "source": [
    "user_course_views_df.shape"
   ]
  },
  {
   "cell_type": "code",
   "execution_count": 28,
   "id": "461ea337-2788-4c91-b100-f26b6a05f2d7",
   "metadata": {},
   "outputs": [
    {
     "data": {
      "text/plain": [
       "(11337, 2)"
      ]
     },
     "execution_count": 28,
     "metadata": {},
     "output_type": "execute_result"
    }
   ],
   "source": [
    "course_tags_df.shape"
   ]
  },
  {
   "cell_type": "code",
   "execution_count": 30,
   "id": "ccf54151-2909-4b49-a7eb-68de1170bee4",
   "metadata": {},
   "outputs": [
    {
     "data": {
      "text/plain": [
       "5942"
      ]
     },
     "execution_count": 30,
     "metadata": {},
     "output_type": "execute_result"
    }
   ],
   "source": [
    "len(user_course_views_df.course_id.unique())"
   ]
  },
  {
   "cell_type": "code",
   "execution_count": 31,
   "id": "fdd159a5-fe44-490b-aa38-d1c99ab07aa7",
   "metadata": {},
   "outputs": [
    {
     "data": {
      "text/plain": [
       "5942"
      ]
     },
     "execution_count": 31,
     "metadata": {},
     "output_type": "execute_result"
    }
   ],
   "source": [
    "len(course_tags_df.course_id.unique())"
   ]
  },
  {
   "cell_type": "code",
   "execution_count": 32,
   "id": "97f7c1cd-7ca8-4dad-bf4e-792b8ab2c71b",
   "metadata": {},
   "outputs": [
    {
     "data": {
      "text/html": [
       "<div>\n",
       "<style scoped>\n",
       "    .dataframe tbody tr th:only-of-type {\n",
       "        vertical-align: middle;\n",
       "    }\n",
       "\n",
       "    .dataframe tbody tr th {\n",
       "        vertical-align: top;\n",
       "    }\n",
       "\n",
       "    .dataframe thead th {\n",
       "        text-align: right;\n",
       "    }\n",
       "</style>\n",
       "<table border=\"1\" class=\"dataframe\">\n",
       "  <thead>\n",
       "    <tr style=\"text-align: right;\">\n",
       "      <th></th>\n",
       "      <th>user_handle</th>\n",
       "      <th>interest_tag</th>\n",
       "      <th>date_followed</th>\n",
       "    </tr>\n",
       "  </thead>\n",
       "  <tbody>\n",
       "    <tr>\n",
       "      <th>279</th>\n",
       "      <td>7</td>\n",
       "      <td>information-security</td>\n",
       "      <td>2017-10-24 14:57:41</td>\n",
       "    </tr>\n",
       "    <tr>\n",
       "      <th>288</th>\n",
       "      <td>7</td>\n",
       "      <td>information-security</td>\n",
       "      <td>2017-10-24 15:00:00</td>\n",
       "    </tr>\n",
       "    <tr>\n",
       "      <th>292</th>\n",
       "      <td>7</td>\n",
       "      <td>sql-server</td>\n",
       "      <td>2017-10-24 15:00:00</td>\n",
       "    </tr>\n",
       "    <tr>\n",
       "      <th>303</th>\n",
       "      <td>9</td>\n",
       "      <td>cloud-computing</td>\n",
       "      <td>2017-11-06 16:55:35</td>\n",
       "    </tr>\n",
       "    <tr>\n",
       "      <th>355</th>\n",
       "      <td>12</td>\n",
       "      <td>app-deployment</td>\n",
       "      <td>2017-11-19 07:45:58</td>\n",
       "    </tr>\n",
       "    <tr>\n",
       "      <th>...</th>\n",
       "      <td>...</td>\n",
       "      <td>...</td>\n",
       "      <td>...</td>\n",
       "    </tr>\n",
       "    <tr>\n",
       "      <th>297300</th>\n",
       "      <td>9988</td>\n",
       "      <td>network-security</td>\n",
       "      <td>2017-07-31 21:36:58</td>\n",
       "    </tr>\n",
       "    <tr>\n",
       "      <th>297309</th>\n",
       "      <td>9990</td>\n",
       "      <td>project-management</td>\n",
       "      <td>2017-07-03 07:47:32</td>\n",
       "    </tr>\n",
       "    <tr>\n",
       "      <th>297310</th>\n",
       "      <td>9990</td>\n",
       "      <td>design-and-art</td>\n",
       "      <td>2017-07-03 07:47:32</td>\n",
       "    </tr>\n",
       "    <tr>\n",
       "      <th>297317</th>\n",
       "      <td>9990</td>\n",
       "      <td>javascript</td>\n",
       "      <td>2017-07-03 07:47:32</td>\n",
       "    </tr>\n",
       "    <tr>\n",
       "      <th>297360</th>\n",
       "      <td>9993</td>\n",
       "      <td>python</td>\n",
       "      <td>2017-06-29 10:20:26</td>\n",
       "    </tr>\n",
       "  </tbody>\n",
       "</table>\n",
       "<p>18209 rows × 3 columns</p>\n",
       "</div>"
      ],
      "text/plain": [
       "        user_handle          interest_tag        date_followed\n",
       "279               7  information-security  2017-10-24 14:57:41\n",
       "288               7  information-security  2017-10-24 15:00:00\n",
       "292               7            sql-server  2017-10-24 15:00:00\n",
       "303               9       cloud-computing  2017-11-06 16:55:35\n",
       "355              12        app-deployment  2017-11-19 07:45:58\n",
       "...             ...                   ...                  ...\n",
       "297300         9988      network-security  2017-07-31 21:36:58\n",
       "297309         9990    project-management  2017-07-03 07:47:32\n",
       "297310         9990        design-and-art  2017-07-03 07:47:32\n",
       "297317         9990            javascript  2017-07-03 07:47:32\n",
       "297360         9993                python  2017-06-29 10:20:26\n",
       "\n",
       "[18209 rows x 3 columns]"
      ]
     },
     "execution_count": 32,
     "metadata": {},
     "output_type": "execute_result"
    }
   ],
   "source": [
    "user_interests_df[user_interests_df.duplicated()]"
   ]
  },
  {
   "cell_type": "code",
   "execution_count": 36,
   "id": "1f3466fc-0ebb-4478-b7dc-93d963741526",
   "metadata": {},
   "outputs": [
    {
     "data": {
      "text/html": [
       "<div>\n",
       "<style scoped>\n",
       "    .dataframe tbody tr th:only-of-type {\n",
       "        vertical-align: middle;\n",
       "    }\n",
       "\n",
       "    .dataframe tbody tr th {\n",
       "        vertical-align: top;\n",
       "    }\n",
       "\n",
       "    .dataframe thead th {\n",
       "        text-align: right;\n",
       "    }\n",
       "</style>\n",
       "<table border=\"1\" class=\"dataframe\">\n",
       "  <thead>\n",
       "    <tr style=\"text-align: right;\">\n",
       "      <th></th>\n",
       "      <th>user_handle</th>\n",
       "      <th>interest_tag</th>\n",
       "      <th>date_followed</th>\n",
       "    </tr>\n",
       "  </thead>\n",
       "  <tbody>\n",
       "    <tr>\n",
       "      <th>272</th>\n",
       "      <td>7</td>\n",
       "      <td>information-security</td>\n",
       "      <td>2017-10-24 14:56:58</td>\n",
       "    </tr>\n",
       "    <tr>\n",
       "      <th>278</th>\n",
       "      <td>7</td>\n",
       "      <td>information-security</td>\n",
       "      <td>2017-10-24 14:57:41</td>\n",
       "    </tr>\n",
       "    <tr>\n",
       "      <th>279</th>\n",
       "      <td>7</td>\n",
       "      <td>information-security</td>\n",
       "      <td>2017-10-24 14:57:41</td>\n",
       "    </tr>\n",
       "    <tr>\n",
       "      <th>287</th>\n",
       "      <td>7</td>\n",
       "      <td>information-security</td>\n",
       "      <td>2017-10-24 15:00:00</td>\n",
       "    </tr>\n",
       "    <tr>\n",
       "      <th>288</th>\n",
       "      <td>7</td>\n",
       "      <td>information-security</td>\n",
       "      <td>2017-10-24 15:00:00</td>\n",
       "    </tr>\n",
       "  </tbody>\n",
       "</table>\n",
       "</div>"
      ],
      "text/plain": [
       "     user_handle          interest_tag        date_followed\n",
       "272            7  information-security  2017-10-24 14:56:58\n",
       "278            7  information-security  2017-10-24 14:57:41\n",
       "279            7  information-security  2017-10-24 14:57:41\n",
       "287            7  information-security  2017-10-24 15:00:00\n",
       "288            7  information-security  2017-10-24 15:00:00"
      ]
     },
     "execution_count": 36,
     "metadata": {},
     "output_type": "execute_result"
    }
   ],
   "source": [
    "user_interests_df[(user_interests_df.user_handle == 7) & (user_interests_df.interest_tag == 'information-security')]"
   ]
  },
  {
   "cell_type": "code",
   "execution_count": null,
   "id": "6adb40bc-e7a1-48f7-b666-d2712b329af9",
   "metadata": {},
   "outputs": [],
   "source": []
  }
 ],
 "metadata": {
  "kernelspec": {
   "display_name": "plenv",
   "language": "python",
   "name": "venv"
  },
  "language_info": {
   "codemirror_mode": {
    "name": "ipython",
    "version": 3
   },
   "file_extension": ".py",
   "mimetype": "text/x-python",
   "name": "python",
   "nbconvert_exporter": "python",
   "pygments_lexer": "ipython3",
   "version": "3.8.2"
  }
 },
 "nbformat": 4,
 "nbformat_minor": 5
}
